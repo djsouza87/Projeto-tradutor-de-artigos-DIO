{
  "nbformat": 4,
  "nbformat_minor": 0,
  "metadata": {
    "colab": {
      "provenance": []
    },
    "kernelspec": {
      "name": "python3",
      "display_name": "Python 3"
    },
    "language_info": {
      "name": "python"
    }
  },
  "cells": [
    {
      "cell_type": "code",
      "execution_count": 1,
      "metadata": {
        "colab": {
          "base_uri": "https://localhost:8080/"
        },
        "id": "7Fpy1ng2uUWq",
        "outputId": "632214f8-66d2-43c2-a1b8-d4cd409bdc91"
      },
      "outputs": [
        {
          "output_type": "stream",
          "name": "stdout",
          "text": [
            "Requirement already satisfied: requests in /usr/local/lib/python3.12/dist-packages (2.32.4)\n",
            "Requirement already satisfied: beautifulsoup4 in /usr/local/lib/python3.12/dist-packages (4.13.5)\n",
            "Requirement already satisfied: openai in /usr/local/lib/python3.12/dist-packages (1.109.1)\n",
            "Collecting langchain-openai\n",
            "  Downloading langchain_openai-1.0.1-py3-none-any.whl.metadata (1.8 kB)\n",
            "Requirement already satisfied: charset_normalizer<4,>=2 in /usr/local/lib/python3.12/dist-packages (from requests) (3.4.4)\n",
            "Requirement already satisfied: idna<4,>=2.5 in /usr/local/lib/python3.12/dist-packages (from requests) (3.11)\n",
            "Requirement already satisfied: urllib3<3,>=1.21.1 in /usr/local/lib/python3.12/dist-packages (from requests) (2.5.0)\n",
            "Requirement already satisfied: certifi>=2017.4.17 in /usr/local/lib/python3.12/dist-packages (from requests) (2025.10.5)\n",
            "Requirement already satisfied: soupsieve>1.2 in /usr/local/lib/python3.12/dist-packages (from beautifulsoup4) (2.8)\n",
            "Requirement already satisfied: typing-extensions>=4.0.0 in /usr/local/lib/python3.12/dist-packages (from beautifulsoup4) (4.15.0)\n",
            "Requirement already satisfied: anyio<5,>=3.5.0 in /usr/local/lib/python3.12/dist-packages (from openai) (4.11.0)\n",
            "Requirement already satisfied: distro<2,>=1.7.0 in /usr/local/lib/python3.12/dist-packages (from openai) (1.9.0)\n",
            "Requirement already satisfied: httpx<1,>=0.23.0 in /usr/local/lib/python3.12/dist-packages (from openai) (0.28.1)\n",
            "Requirement already satisfied: jiter<1,>=0.4.0 in /usr/local/lib/python3.12/dist-packages (from openai) (0.11.1)\n",
            "Requirement already satisfied: pydantic<3,>=1.9.0 in /usr/local/lib/python3.12/dist-packages (from openai) (2.11.10)\n",
            "Requirement already satisfied: sniffio in /usr/local/lib/python3.12/dist-packages (from openai) (1.3.1)\n",
            "Requirement already satisfied: tqdm>4 in /usr/local/lib/python3.12/dist-packages (from openai) (4.67.1)\n",
            "Collecting langchain-core<2.0.0,>=1.0.0 (from langchain-openai)\n",
            "  Downloading langchain_core-1.0.0-py3-none-any.whl.metadata (3.4 kB)\n",
            "Requirement already satisfied: tiktoken<1.0.0,>=0.7.0 in /usr/local/lib/python3.12/dist-packages (from langchain-openai) (0.12.0)\n",
            "Requirement already satisfied: httpcore==1.* in /usr/local/lib/python3.12/dist-packages (from httpx<1,>=0.23.0->openai) (1.0.9)\n",
            "Requirement already satisfied: h11>=0.16 in /usr/local/lib/python3.12/dist-packages (from httpcore==1.*->httpx<1,>=0.23.0->openai) (0.16.0)\n",
            "Requirement already satisfied: jsonpatch<2.0.0,>=1.33.0 in /usr/local/lib/python3.12/dist-packages (from langchain-core<2.0.0,>=1.0.0->langchain-openai) (1.33)\n",
            "Requirement already satisfied: langsmith<1.0.0,>=0.3.45 in /usr/local/lib/python3.12/dist-packages (from langchain-core<2.0.0,>=1.0.0->langchain-openai) (0.4.37)\n",
            "Requirement already satisfied: packaging<26.0.0,>=23.2.0 in /usr/local/lib/python3.12/dist-packages (from langchain-core<2.0.0,>=1.0.0->langchain-openai) (25.0)\n",
            "Requirement already satisfied: pyyaml<7.0.0,>=5.3.0 in /usr/local/lib/python3.12/dist-packages (from langchain-core<2.0.0,>=1.0.0->langchain-openai) (6.0.3)\n",
            "Requirement already satisfied: tenacity!=8.4.0,<10.0.0,>=8.1.0 in /usr/local/lib/python3.12/dist-packages (from langchain-core<2.0.0,>=1.0.0->langchain-openai) (8.5.0)\n",
            "Requirement already satisfied: annotated-types>=0.6.0 in /usr/local/lib/python3.12/dist-packages (from pydantic<3,>=1.9.0->openai) (0.7.0)\n",
            "Requirement already satisfied: pydantic-core==2.33.2 in /usr/local/lib/python3.12/dist-packages (from pydantic<3,>=1.9.0->openai) (2.33.2)\n",
            "Requirement already satisfied: typing-inspection>=0.4.0 in /usr/local/lib/python3.12/dist-packages (from pydantic<3,>=1.9.0->openai) (0.4.2)\n",
            "Requirement already satisfied: regex>=2022.1.18 in /usr/local/lib/python3.12/dist-packages (from tiktoken<1.0.0,>=0.7.0->langchain-openai) (2024.11.6)\n",
            "Requirement already satisfied: jsonpointer>=1.9 in /usr/local/lib/python3.12/dist-packages (from jsonpatch<2.0.0,>=1.33.0->langchain-core<2.0.0,>=1.0.0->langchain-openai) (3.0.0)\n",
            "Requirement already satisfied: orjson>=3.9.14 in /usr/local/lib/python3.12/dist-packages (from langsmith<1.0.0,>=0.3.45->langchain-core<2.0.0,>=1.0.0->langchain-openai) (3.11.3)\n",
            "Requirement already satisfied: requests-toolbelt>=1.0.0 in /usr/local/lib/python3.12/dist-packages (from langsmith<1.0.0,>=0.3.45->langchain-core<2.0.0,>=1.0.0->langchain-openai) (1.0.0)\n",
            "Requirement already satisfied: zstandard>=0.23.0 in /usr/local/lib/python3.12/dist-packages (from langsmith<1.0.0,>=0.3.45->langchain-core<2.0.0,>=1.0.0->langchain-openai) (0.25.0)\n",
            "Downloading langchain_openai-1.0.1-py3-none-any.whl (81 kB)\n",
            "\u001b[2K   \u001b[90m━━━━━━━━━━━━━━━━━━━━━━━━━━━━━━━━━━━━━━━━\u001b[0m \u001b[32m81.9/81.9 kB\u001b[0m \u001b[31m3.2 MB/s\u001b[0m eta \u001b[36m0:00:00\u001b[0m\n",
            "\u001b[?25hDownloading langchain_core-1.0.0-py3-none-any.whl (467 kB)\n",
            "\u001b[2K   \u001b[90m━━━━━━━━━━━━━━━━━━━━━━━━━━━━━━━━━━━━━━━━\u001b[0m \u001b[32m467.2/467.2 kB\u001b[0m \u001b[31m15.3 MB/s\u001b[0m eta \u001b[36m0:00:00\u001b[0m\n",
            "\u001b[?25hInstalling collected packages: langchain-core, langchain-openai\n",
            "  Attempting uninstall: langchain-core\n",
            "    Found existing installation: langchain-core 0.3.79\n",
            "    Uninstalling langchain-core-0.3.79:\n",
            "      Successfully uninstalled langchain-core-0.3.79\n",
            "\u001b[31mERROR: pip's dependency resolver does not currently take into account all the packages that are installed. This behaviour is the source of the following dependency conflicts.\n",
            "langchain 0.3.27 requires langchain-core<1.0.0,>=0.3.72, but you have langchain-core 1.0.0 which is incompatible.\u001b[0m\u001b[31m\n",
            "\u001b[0mSuccessfully installed langchain-core-1.0.0 langchain-openai-1.0.1\n"
          ]
        }
      ],
      "source": [
        "!pip install requests beautifulsoup4 openai langchain-openai"
      ]
    },
    {
      "cell_type": "code",
      "source": [
        "import requests\n",
        "from bs4 import BeautifulSoup\n",
        "\n",
        "def extract_text_from_url(url):\n",
        "  response = requests.get(url)\n",
        "\n",
        "  if response.status_code == 200:\n",
        "    soup = BeautifulSoup(response.text, 'html.parser')\n",
        "    for script_or_style in soup(['script', 'style']):\n",
        "      script_or_style.decompose()\n",
        "    texto = soup.get_text(separator= ' ')\n",
        "    # Limpar texto\n",
        "    linhas = (line.strip() for line in texto.splitlines())\n",
        "    parts = (phrase.strip() for line in linhas for phrase in line.split(\"  \"))\n",
        "    texto_limpo = '\\n'.join(part for part in parts if part)\n",
        "    return texto_limpo\n",
        "  else:\n",
        "    print(f\"Failed to retrieve the webpage. Status code: {response.status_code}\")\n",
        "    return None\n",
        "\n",
        "  text = soup.get_text()\n",
        "  return text"
      ],
      "metadata": {
        "id": "B4KRal8hvW_v"
      },
      "execution_count": 3,
      "outputs": []
    },
    {
      "cell_type": "code",
      "source": [
        "extract_text_from_url(\"https://dev.to/codeneuron/machine-learning-basics-3gp9\")"
      ],
      "metadata": {
        "colab": {
          "base_uri": "https://localhost:8080/",
          "height": 973
        },
        "id": "sNvG8O8SyFA_",
        "outputId": "16214fc8-f739-4046-cd61-443caf90419f"
      },
      "execution_count": 4,
      "outputs": [
        {
          "output_type": "execute_result",
          "data": {
            "text/plain": [
              "\"Machine Learning Basics - DEV Community\\nForem Feed\\nFollow new Subforems to improve your feed\\nDEV Community\\nFollow\\nA space to discuss and keep up software development and manage your software career\\nGamers Forem\\nFollow\\nAn inclusive community for gaming enthusiasts\\nFuture\\nFollow\\nNews and discussion of science and technology such as AI, VR, cryptocurrency, quantum computing, and more.\\nMusic Forem\\nFollow\\nFrom composing and gigging to gear, hot music takes, and everything in between.\\nVibe Coding Forem\\nFollow\\nDiscussing AI software development, and showing off what we're building.\\nOpen Forem\\nFollow\\nA general discussion space for the Forem community. If it doesn't have a home elsewhere, it belongs here\\nPopcorn Movies and TV\\nFollow\\nMovie and TV enthusiasm, criticism and everything in-between.\\nDUMB DEV Community\\nFollow\\nMemes and software development shitposting\\nDesign Community\\nFollow\\nWeb design, graphic design and everything in-between\\nGolf Forem\\nFollow\\nA community of golfers and golfing enthusiasts\\nSecurity Forem\\nFollow\\nYour central hub for all things security. From ethical hacking and CTFs to GRC and career development, for beginners and pros alike\\nScale Forem\\nFollow\\nFor engineers building software at scale. We discuss architecture, cloud-native, and SRE—the hard-won lessons you can't just Google\\nForem Core\\nFollow\\nDiscussing the core forem open source software project — features, bugs, performance, self-hosting.\\nCrypto Forem\\nFollow\\nA collaborative community for all things Crypto—from Bitcoin to protocol development and DeFi to NFTs and market analysis.\\nParenting\\nFollow\\nA place for parents to the share the joys, challenges, and wisdom that come from raising kids. We're here for them and for each other.\\nMaker Forem\\nFollow\\nA community for makers, hobbyists, and professionals to discuss Arduino, Raspberry Pi, 3D printing, and much more.\\nDropdown menu\\nDropdown menu\\nSkip to content\\nNavigation menu\\nSearch\\nPowered by Algolia\\nSearch\\nLog in\\nCreate account\\nDEV Community\\nClose\\nAdd reaction\\nLike\\nUnicorn\\nExploding Head\\nRaised Hands\\nFire\\nJump to Comments\\nSave\\nBoost\\nMore...\\nModerate\\nCopy link\\nCopy link\\nCopied to Clipboard\\nShare to X\\nShare to LinkedIn\\nShare to Facebook\\nShare to Mastodon\\nReport Abuse\\nlikhitha manikonda\\nPosted on\\nOct 18\\n• Edited on\\nOct 22\\nMachine Learning Basics\\n# machinelearning\\n# beginners\\n# ai\\nArtificial Intelligence Vs Machine Learning\\nAI(Artificial Intelligence)\\napplication is able to do its own task without any human intervention\\nEx: Netflix→ Recommendation system, Self Driving cars\\nML(Machine Learning)\\nis a subset of Artificial Intelligence (AI) that enables computers to learn patterns from data and make predictions or decisions without being explicitly programmed for every task.\\nCore Idea Of Machine Learning:\\nLearning from Data:\\nML algorithms analyze historical data to identify patterns.\\nMaking Predictions:\\nOnce trained, models can predict outcomes for new, unseen data.\\nImprovement Over Time:\\nModels improve as they are exposed to more data.\\nKey terms of ML:\\nFeatures, labels, training data, testing data, overfitting, underfitting...\\nFeatures\\nFeatures are the inputs — the variables or columns you use to make predictions. For example, in a housing dataset, features might include:\\nNumber of bedrooms\\nSquare footage\\nLocation\\nAge of the house\\nLabel\\nLabel(also called target) is the output — the value you're trying to predict. In the housing example, the label would be:\\nHouse price\\n🔧Training Data\\nThis is the data you use to build your model.\\nThe model learns patterns from this data.\\nExample: If you're predicting house prices, the training data includes houses with known prices.\\n🧪Testing Data\\nThis is new data the model hasn’t seen before.\\nYou use it to evaluate how well your model performs.\\nIt helps you check if the model can make accurate predictions on unseen data.\\n👉 Think of it like studying for an exam:\\nTraining data = practice questions\\nTesting data = actual exam questions\\n🎯 Overfitting\\nThe model learns too much from the training data — even the noise and random patterns.\\nIt performs very well on training data but poorly on testing data.\\nLike memorizing answers instead of understanding concepts.\\n💤 Underfitting\\nThe model is too simple to capture the patterns in the data.\\nIt performs poorly on both training and testing data.\\nLike not studying enough and guessing on the exam.\\nML Algorithm\\nAn algorithm is a set of rules or instructions for solving a problem.\\nIn machine learning, an algorithm is the method used to train a model.\\nExamples:\\nLinear regression algorithm, decision tree algorithm, logistic regression algorithm.\\nML Model\\nA model is the result you get after applying an algorithm to your data.\\nThe model is what you use to make predictions.\\nExample:\\nAfter training a decision tree algorithm on your housing data, you get a decision tree model that can predict house prices.\\nSimple Analogy\\nAlgorithm:\\nLike a recipe for baking a cake.\\nModel:\\nThe cake you get after following the recipe with your ingredients.\\nWhen We Say “Choosing the Right ML Model”\\nWe mean: Choosing the right type of model and the right algorithm to create it.\\nFor example, if you want to predict a number, you might choose a linear regression model (using the linear regression algorithm which we learn in coming posts!!).\\nIf you want to predict a category, you might choose a decision tree model (using the decision tree algorithm which we learn in coming posts!!).\\nYou choose an algorithm based on your problem and data.\\nThe trained model is what you use to make predictions.\\n🍿 That was the trailer — the next post’s the feature film. Grab your snacks and dive in! 🎬📖\\nhttps://dev.to/codeneuron/types-of-machine-learning-algorithms-4h55\\nTop comments\\n(0)\\nSubscribe\\nPersonal\\nTrusted User\\nCreate template\\nTemplates let you quickly answer FAQs or store snippets for re-use.\\nSubmit\\nPreview\\nDismiss\\nCode of Conduct\\n•\\nReport abuse\\nAre you sure you want to hide this comment? It will become hidden in your post, but will still be visible via the comment's\\npermalink .\\nHide child comments as well\\nConfirm\\nFor further actions, you may consider blocking this person and/or\\nreporting abuse\\nlikhitha manikonda\\nFollow\\n💻 Builder of things with code. 🚀 Always learning, occasionally teaching. Let’s turn ideas into side projects and bugs into features!\\nEducation\\nBtech/ComputerScience\\nPronouns\\nShe/Her\\nWork\\nLead Software Engineer\\nJoined\\nSep 3, 2024\\nMore from\\nlikhitha manikonda\\nJava vs Python for Beginners: A Syntax Perspective\\n# beginners\\n# java\\n# programming\\n# python\\n📘 How to Know if Your Data is Linear, Non-Linear, or Complex\\n# datascience\\n# python\\n# tutorial\\n# machinelearning\\nHow to Check If Random Forests Work for Your Dataset\\n# datascience\\n# python\\n# tutorial\\n# machinelearning\\n💎 DEV Diamond Sponsors\\nThank you to our Diamond Sponsors for supporting the DEV Community\\nGoogle AI is the official AI Model and Platform Partner of DEV\\nNeon is the official database partner of DEV\\nAlgolia is the official search partner of DEV\\nDEV Community\\n— A space to discuss and keep up software development and manage your software career\\nHome\\nAbout\\nContact\\nCode of Conduct\\nPrivacy Policy\\nTerms of Use\\nBuilt on\\nForem\\n— the\\nopen source\\nsoftware that powers\\nDEV\\nand other inclusive communities.\\nMade with love and\\nRuby on Rails . DEV Community\\n©\\n2016 - 2025.\\nWe're a place where coders share, stay up-to-date and grow their careers.\\nLog in\\nCreate account\""
            ],
            "application/vnd.google.colaboratory.intrinsic+json": {
              "type": "string"
            }
          },
          "metadata": {},
          "execution_count": 4
        }
      ]
    },
    {
      "cell_type": "code",
      "source": [
        "from langchain_openai.chat_models.azure import AzureChatOpenAI\n",
        "\n",
        "client = AzureChatOpenAI(\n",
        "    azure_endpoint = \"https://openai-dio-bootcamp-eastus-001.openai.azure.com/\",\n",
        "    api_key = \"5nznWTBZepuDgua4AdHUmETNgDMWzRn13Z0nXJJA2SjtejzaKuebJQQJ99BJACHYHv6XJ3w3AAABACOGfQhC\",\n",
        "    api_version = \"2024-12-01-preview\",\n",
        "    deployment_name = \"gpt-4o-mini\",\n",
        "    max_retries = 0\n",
        ")\n",
        "\n",
        "def translate_article(text, lang):\n",
        "  messages = [\n",
        "      (\"system\", \"Você atua como tradutor de textos\"),\n",
        "      (\"user\", f\"Traduza o {text} para o idioma {lang} e responda em markdown\")\n",
        "  ]\n",
        "\n",
        "  response = client.invoke(messages)\n",
        "  print(response.content)\n",
        "  return response.content\n",
        "\n",
        "translate_article(\"Just testing if the function is right\", \"portugues\")"
      ],
      "metadata": {
        "colab": {
          "base_uri": "https://localhost:8080/",
          "height": 87
        },
        "id": "5GOCikHszeZt",
        "outputId": "bb236957-f91c-404a-ba92-538dc109c43e"
      },
      "execution_count": 8,
      "outputs": [
        {
          "output_type": "stream",
          "name": "stdout",
          "text": [
            "```markdown\n",
            "A tradução de \"Just testing if the function is right\" para o português é \"Apenas testando se a função está correta\".\n",
            "```\n"
          ]
        },
        {
          "output_type": "execute_result",
          "data": {
            "text/plain": [
              "'```markdown\\nA tradução de \"Just testing if the function is right\" para o português é \"Apenas testando se a função está correta\".\\n```'"
            ],
            "application/vnd.google.colaboratory.intrinsic+json": {
              "type": "string"
            }
          },
          "metadata": {},
          "execution_count": 8
        }
      ]
    },
    {
      "cell_type": "code",
      "source": [
        "url = 'https://dev.to/codeneuron/machine-learning-basics-3gp9'\n",
        "text = extract_text_from_url(url)\n",
        "article = translate_article(text,\"pt-br\")\n",
        "\n",
        "print(article)"
      ],
      "metadata": {
        "colab": {
          "base_uri": "https://localhost:8080/"
        },
        "id": "TPaLw9e-4CFp",
        "outputId": "bda1a5d9-baf6-4216-abed-13b14aef279d"
      },
      "execution_count": 9,
      "outputs": [
        {
          "output_type": "stream",
          "name": "stdout",
          "text": [
            "```markdown\n",
            "# Fundamentos de Aprendizado de Máquina\n",
            "\n",
            "## Inteligência Artificial vs. Aprendizado de Máquina\n",
            "\n",
            "**IA (Inteligência Artificial)**: A aplicação é capaz de realizar sua própria tarefa sem intervenção humana.  \n",
            "Ex: Netflix → Sistema de recomendação, Carros autônomos.\n",
            "\n",
            "**ML (Aprendizado de Máquina)**: É um subconjunto da Inteligência Artificial que permite que os computadores aprendam padrões a partir de dados e façam previsões ou decisões sem serem programados explicitamente para cada tarefa.\n",
            "\n",
            "### Ideia Central do Aprendizado de Máquina:\n",
            "\n",
            "- **Aprender com Dados**: Algoritmos de ML analisam dados históricos para identificar padrões.\n",
            "- **Fazendo Previsões**: Uma vez treinados, os modelos podem prever resultados para novos dados desconhecidos.\n",
            "- **Melhoria ao Longo do Tempo**: Os modelos melhoram à medida que são expostos a mais dados.\n",
            "\n",
            "### Termos Chave de ML:\n",
            "\n",
            "- **Características**: Variáveis ou colunas usadas para fazer previsões. Por exemplo, em um conjunto de dados de habitação, as características podem incluir:\n",
            "  - Número de quartos\n",
            "  - Área em metros quadrados\n",
            "  - Localização\n",
            "  - Idade da casa\n",
            "\n",
            "- **Rótulo**: Também chamado de alvo, é o valor que você está tentando prever. No exemplo de habitação, o rótulo seria:\n",
            "  - Preço da casa\n",
            "\n",
            "#### 🔧 Dados de Treinamento\n",
            "\n",
            "Esse é o conjunto de dados que você usa para construir seu modelo.  \n",
            "O modelo aprende padrões a partir desses dados.  \n",
            "Exemplo: Se você está prevendo preços de casas, os dados de treinamento incluem casas com preços conhecidos.\n",
            "\n",
            "#### 🧪 Dados de Teste\n",
            "\n",
            "Esses são dados novos que o modelo não viu antes.  \n",
            "Você os utiliza para avaliar quão bem seu modelo se desempenha.  \n",
            "Ajuda a verificar se o modelo pode fazer previsões precisas em dados não vistos.\n",
            "\n",
            "👉 Pense nisso como estudar para um exame:  \n",
            "- **Dados de treinamento** = questões de prática  \n",
            "- **Dados de teste** = questões do exame real  \n",
            "\n",
            "#### 🎯 Sobreajuste\n",
            "\n",
            "O modelo aprende demais com os dados de treinamento — até mesmo o ruído e padrões aleatórios.  \n",
            "Desempenha muito bem nos dados de treinamento, mas mal nos dados de teste.  \n",
            "Como memorizar respostas em vez de entender conceitos.\n",
            "\n",
            "#### 💤 Subajuste\n",
            "\n",
            "O modelo é simples demais para capturar os padrões nos dados.  \n",
            "Desempenha mal tanto nos dados de treinamento quanto nos dados de teste.  \n",
            "Como não estudar o suficiente e adivinhar no exame.\n",
            "\n",
            "### Algoritmo de ML\n",
            "\n",
            "Um algoritmo é um conjunto de regras ou instruções para resolver um problema.  \n",
            "No aprendizado de máquina, um algoritmo é o método usado para treinar um modelo.  \n",
            "Exemplos: algoritmo de regressão linear, algoritmo de árvore de decisão, algoritmo de regressão logística.\n",
            "\n",
            "### Modelo de ML\n",
            "\n",
            "Um modelo é o resultado que você obtém após aplicar um algoritmo aos seus dados.  \n",
            "O modelo é o que você usa para fazer previsões.  \n",
            "Exemplo: Após treinar um algoritmo de árvore de decisão com seus dados de habitação, você obtém um modelo de árvore de decisão que pode prever preços de casas.\n",
            "\n",
            "### Analogia Simples\n",
            "\n",
            "- **Algoritmo**: Como uma receita para assar um bolo.  \n",
            "- **Modelo**: O bolo que você obtém após seguir a receita com seus ingredientes.  \n",
            "\n",
            "### Quando Dizemos “Escolhendo o Modelo de ML Certo”\n",
            "\n",
            "Significamos: Escolher o tipo certo de modelo e o algoritmo certo para criá-lo.  \n",
            "Por exemplo, se você quiser prever um número, pode escolher um modelo de regressão linear (usando o algoritmo de regressão linear, que aprenderemos em postagens futuras!).  \n",
            "Se você quiser prever uma categoria, pode escolher um modelo de árvore de decisão (usando o algoritmo de árvore de decisão, que também aprenderemos em postagens futuras!).  \n",
            "Você escolhe um algoritmo com base no seu problema e dados.  \n",
            "O modelo treinado é o que você usa para fazer previsões.\n",
            "\n",
            "🍿 Isso foi o trailer — a próxima postagem é o filme principal. Pegue seus lanches e mergulhe! 🎬📖\n",
            "```\n",
            "\n",
            "```markdown\n",
            "# Fundamentos de Aprendizado de Máquina\n",
            "\n",
            "## Inteligência Artificial vs. Aprendizado de Máquina\n",
            "\n",
            "**IA (Inteligência Artificial)**: A aplicação é capaz de realizar sua própria tarefa sem intervenção humana.  \n",
            "Ex: Netflix → Sistema de recomendação, Carros autônomos.\n",
            "\n",
            "**ML (Aprendizado de Máquina)**: É um subconjunto da Inteligência Artificial que permite que os computadores aprendam padrões a partir de dados e façam previsões ou decisões sem serem programados explicitamente para cada tarefa.\n",
            "\n",
            "### Ideia Central do Aprendizado de Máquina:\n",
            "\n",
            "- **Aprender com Dados**: Algoritmos de ML analisam dados históricos para identificar padrões.\n",
            "- **Fazendo Previsões**: Uma vez treinados, os modelos podem prever resultados para novos dados desconhecidos.\n",
            "- **Melhoria ao Longo do Tempo**: Os modelos melhoram à medida que são expostos a mais dados.\n",
            "\n",
            "### Termos Chave de ML:\n",
            "\n",
            "- **Características**: Variáveis ou colunas usadas para fazer previsões. Por exemplo, em um conjunto de dados de habitação, as características podem incluir:\n",
            "  - Número de quartos\n",
            "  - Área em metros quadrados\n",
            "  - Localização\n",
            "  - Idade da casa\n",
            "\n",
            "- **Rótulo**: Também chamado de alvo, é o valor que você está tentando prever. No exemplo de habitação, o rótulo seria:\n",
            "  - Preço da casa\n",
            "\n",
            "#### 🔧 Dados de Treinamento\n",
            "\n",
            "Esse é o conjunto de dados que você usa para construir seu modelo.  \n",
            "O modelo aprende padrões a partir desses dados.  \n",
            "Exemplo: Se você está prevendo preços de casas, os dados de treinamento incluem casas com preços conhecidos.\n",
            "\n",
            "#### 🧪 Dados de Teste\n",
            "\n",
            "Esses são dados novos que o modelo não viu antes.  \n",
            "Você os utiliza para avaliar quão bem seu modelo se desempenha.  \n",
            "Ajuda a verificar se o modelo pode fazer previsões precisas em dados não vistos.\n",
            "\n",
            "👉 Pense nisso como estudar para um exame:  \n",
            "- **Dados de treinamento** = questões de prática  \n",
            "- **Dados de teste** = questões do exame real  \n",
            "\n",
            "#### 🎯 Sobreajuste\n",
            "\n",
            "O modelo aprende demais com os dados de treinamento — até mesmo o ruído e padrões aleatórios.  \n",
            "Desempenha muito bem nos dados de treinamento, mas mal nos dados de teste.  \n",
            "Como memorizar respostas em vez de entender conceitos.\n",
            "\n",
            "#### 💤 Subajuste\n",
            "\n",
            "O modelo é simples demais para capturar os padrões nos dados.  \n",
            "Desempenha mal tanto nos dados de treinamento quanto nos dados de teste.  \n",
            "Como não estudar o suficiente e adivinhar no exame.\n",
            "\n",
            "### Algoritmo de ML\n",
            "\n",
            "Um algoritmo é um conjunto de regras ou instruções para resolver um problema.  \n",
            "No aprendizado de máquina, um algoritmo é o método usado para treinar um modelo.  \n",
            "Exemplos: algoritmo de regressão linear, algoritmo de árvore de decisão, algoritmo de regressão logística.\n",
            "\n",
            "### Modelo de ML\n",
            "\n",
            "Um modelo é o resultado que você obtém após aplicar um algoritmo aos seus dados.  \n",
            "O modelo é o que você usa para fazer previsões.  \n",
            "Exemplo: Após treinar um algoritmo de árvore de decisão com seus dados de habitação, você obtém um modelo de árvore de decisão que pode prever preços de casas.\n",
            "\n",
            "### Analogia Simples\n",
            "\n",
            "- **Algoritmo**: Como uma receita para assar um bolo.  \n",
            "- **Modelo**: O bolo que você obtém após seguir a receita com seus ingredientes.  \n",
            "\n",
            "### Quando Dizemos “Escolhendo o Modelo de ML Certo”\n",
            "\n",
            "Significamos: Escolher o tipo certo de modelo e o algoritmo certo para criá-lo.  \n",
            "Por exemplo, se você quiser prever um número, pode escolher um modelo de regressão linear (usando o algoritmo de regressão linear, que aprenderemos em postagens futuras!).  \n",
            "Se você quiser prever uma categoria, pode escolher um modelo de árvore de decisão (usando o algoritmo de árvore de decisão, que também aprenderemos em postagens futuras!).  \n",
            "Você escolhe um algoritmo com base no seu problema e dados.  \n",
            "O modelo treinado é o que você usa para fazer previsões.\n",
            "\n",
            "🍿 Isso foi o trailer — a próxima postagem é o filme principal. Pegue seus lanches e mergulhe! 🎬📖\n",
            "```\n",
            "\n"
          ]
        }
      ]
    }
  ]
}