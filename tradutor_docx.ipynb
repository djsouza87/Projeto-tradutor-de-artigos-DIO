{
 "cells": [
  {
   "cell_type": "code",
   "execution_count": 1,
   "id": "22735c59",
   "metadata": {},
   "outputs": [
    {
     "name": "stdout",
     "output_type": "stream",
     "text": [
      "Collecting requests\n",
      "  Downloading requests-2.32.5-py3-none-any.whl.metadata (4.9 kB)\n",
      "Collecting python-docx\n",
      "  Downloading python_docx-1.2.0-py3-none-any.whl.metadata (2.0 kB)\n",
      "Collecting charset_normalizer<4,>=2 (from requests)\n",
      "  Downloading charset_normalizer-3.4.4-cp313-cp313-win_amd64.whl.metadata (38 kB)\n",
      "Collecting idna<4,>=2.5 (from requests)\n",
      "  Downloading idna-3.11-py3-none-any.whl.metadata (8.4 kB)\n",
      "Collecting urllib3<3,>=1.21.1 (from requests)\n",
      "  Downloading urllib3-2.5.0-py3-none-any.whl.metadata (6.5 kB)\n",
      "Collecting certifi>=2017.4.17 (from requests)\n",
      "  Downloading certifi-2025.10.5-py3-none-any.whl.metadata (2.5 kB)\n",
      "Collecting lxml>=3.1.0 (from python-docx)\n",
      "  Downloading lxml-6.0.2-cp313-cp313-win_amd64.whl.metadata (3.7 kB)\n",
      "Collecting typing_extensions>=4.9.0 (from python-docx)\n",
      "  Downloading typing_extensions-4.15.0-py3-none-any.whl.metadata (3.3 kB)\n",
      "Downloading requests-2.32.5-py3-none-any.whl (64 kB)\n",
      "Downloading python_docx-1.2.0-py3-none-any.whl (252 kB)\n",
      "Downloading certifi-2025.10.5-py3-none-any.whl (163 kB)\n",
      "Downloading charset_normalizer-3.4.4-cp313-cp313-win_amd64.whl (107 kB)\n",
      "Downloading idna-3.11-py3-none-any.whl (71 kB)\n",
      "Downloading lxml-6.0.2-cp313-cp313-win_amd64.whl (4.0 MB)\n",
      "   ---------------------------------------- 0.0/4.0 MB ? eta -:--:--\n",
      "   ---------------------------------------- 4.0/4.0 MB 37.9 MB/s eta 0:00:00\n",
      "Downloading typing_extensions-4.15.0-py3-none-any.whl (44 kB)\n",
      "Downloading urllib3-2.5.0-py3-none-any.whl (129 kB)\n",
      "Installing collected packages: urllib3, typing_extensions, lxml, idna, charset_normalizer, certifi, requests, python-docx\n",
      "Successfully installed certifi-2025.10.5 charset_normalizer-3.4.4 idna-3.11 lxml-6.0.2 python-docx-1.2.0 requests-2.32.5 typing_extensions-4.15.0 urllib3-2.5.0\n",
      "Note: you may need to restart the kernel to use updated packages.\n"
     ]
    },
    {
     "name": "stderr",
     "output_type": "stream",
     "text": [
      "\n",
      "[notice] A new release of pip is available: 25.0.1 -> 25.2\n",
      "[notice] To update, run: python.exe -m pip install --upgrade pip\n"
     ]
    }
   ],
   "source": [
    "pip install requests python-docx"
   ]
  },
  {
   "cell_type": "code",
   "execution_count": 5,
   "id": "fe45e18c",
   "metadata": {},
   "outputs": [],
   "source": [
    "import requests\n",
    "from docx import Document\n",
    "import os\n",
    "subscription_key = \"8FFt9I6tGrkfSo1iVGiYVTXIuzqsQa9yoRRNzuuq2416mSXzOzVWJQQJ99BJACHYHv6XJ3w3AAAbACOGHxFu\"\n",
    "endpoint = \"https://api.cognitive.microsofttranslator.com\"\n",
    "location = \"eastus2\"\n",
    "language_destination = \"pt-br\"\n",
    "\n",
    "def translator_text(text, target_language):\n",
    "    path = '/translate'\n",
    "    constructed_url = endpoint + path\n",
    "    headers = {\n",
    "        'Ocp-Apim-Subscription-Key': subscription_key,\n",
    "        'Ocp-Apim-Subscription-Region': location,\n",
    "        'Content-type': 'application/json',\n",
    "        'X-ClientTraceId': str(os.urandom(16))\n",
    "    }\n",
    "    \n",
    "    body = [{\n",
    "        'text': text\n",
    "    }]\n",
    "    \n",
    "    params = {\n",
    "        'api-version': '3.0',\n",
    "        'from': 'en',\n",
    "        'to': target_language\n",
    "    }\n",
    "    request = requests.post(constructed_url, params=params, headers=headers, json=body)\n",
    "    response = request.json()\n",
    "    return response[0][\"translations\"][0][\"text\"]"
   ]
  },
  {
   "cell_type": "code",
   "execution_count": 6,
   "id": "e5d5364d",
   "metadata": {},
   "outputs": [],
   "source": [
    "def translate_document(path):\n",
    "  document = Document(path)\n",
    "  full_text = []\n",
    "  for paragraph in document.paragraphs:\n",
    "    translated_text = translator_text(paragraph.text, language_destination)\n",
    "    full_text.append(translated_text)\n",
    "  \n",
    "  translated_doc = Document()\n",
    "  for line in full_text:\n",
    "    translated_doc.add_paragraph(line)\n",
    "  path_translated = path.replace(\".docx\", f\"_{language_destination}.docx\")\n",
    "  translated_doc.save(path_translated)\n",
    "  return path_translated"
   ]
  },
  {
   "cell_type": "code",
   "execution_count": 7,
   "id": "aa599862",
   "metadata": {},
   "outputs": [
    {
     "data": {
      "text/plain": [
       "'musica_pt-br.docx'"
      ]
     },
     "execution_count": 7,
     "metadata": {},
     "output_type": "execute_result"
    }
   ],
   "source": [
    "input_file = \"musica.docx\"\n",
    "translate_document(input_file)"
   ]
  }
 ],
 "metadata": {
  "kernelspec": {
   "display_name": "Python 3",
   "language": "python",
   "name": "python3"
  },
  "language_info": {
   "codemirror_mode": {
    "name": "ipython",
    "version": 3
   },
   "file_extension": ".py",
   "mimetype": "text/x-python",
   "name": "python",
   "nbconvert_exporter": "python",
   "pygments_lexer": "ipython3",
   "version": "3.13.3"
  }
 },
 "nbformat": 4,
 "nbformat_minor": 5
}
